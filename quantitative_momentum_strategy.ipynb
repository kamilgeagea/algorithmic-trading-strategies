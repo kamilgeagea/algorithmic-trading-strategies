{
 "cells": [
  {
   "cell_type": "markdown",
   "id": "cd1a4178",
   "metadata": {},
   "source": [
    "<h1>Quantitative Momentum Strategy</h1>"
   ]
  },
  {
   "cell_type": "markdown",
   "id": "b718e5bc",
   "metadata": {},
   "source": [
    "\"Momentum investing\" means investing in the stocks that increased in price the most.\n",
    "\n",
    "For this project. I will be building an investing strategy that returns the 50 stocks with the "
   ]
  },
  {
   "cell_type": "markdown",
   "id": "8b05458b",
   "metadata": {},
   "source": [
    "<h3>Importing Libraries</h3>"
   ]
  },
  {
   "cell_type": "code",
   "execution_count": null,
   "id": "831798d3",
   "metadata": {},
   "outputs": [],
   "source": [
    "import numpy as np\n",
    "import pandas as pd\n",
    "import requests\n",
    "import math\n",
    "import xlsxwriter\n",
    "from scipy.stats import percentileofscore as score"
   ]
  },
  {
   "cell_type": "code",
   "execution_count": null,
   "id": "2ce2ed3d",
   "metadata": {},
   "outputs": [],
   "source": [
    "import warnings\n",
    "warnings.filterwarnings('ignore')"
   ]
  },
  {
   "cell_type": "markdown",
   "id": "f02d41a2",
   "metadata": {},
   "source": [
    "<h3>Importing List of Stocks</h3>"
   ]
  },
  {
   "cell_type": "code",
   "execution_count": null,
   "id": "95aca96c",
   "metadata": {},
   "outputs": [],
   "source": [
    "stocks = pd.read_csv(\"sp_500_stocks.csv\")\n",
    "from secret_keys import IEX_CLOUD_API_TOKEN"
   ]
  },
  {
   "cell_type": "markdown",
   "id": "08c0867b",
   "metadata": {},
   "source": [
    "<h3>Creating a Data Frame to store our data</h3>"
   ]
  },
  {
   "cell_type": "code",
   "execution_count": null,
   "id": "74f1d949",
   "metadata": {},
   "outputs": [],
   "source": [
    "columns = [\n",
    "    \"Ticker\",\n",
    "    \"Stock Price\",\n",
    "    \"One-Year Price Return\",\n",
    "    \"One-Year Return Percentile\",\n",
    "    \"Six-Month Price Return\",\n",
    "    \"Six-Month Return Percentile\",\n",
    "    \"Three-Month Price Return\",\n",
    "    \"Three-Month Return Percentile\",\n",
    "    \"One-Month Price Return\",\n",
    "    \"One-Month Return Percentile\",\n",
    "    \"HQM Score\",\n",
    "    \"Number of Shares to Buy\"\n",
    "]\n",
    "df = pd.DataFrame(columns=columns)"
   ]
  },
  {
   "cell_type": "markdown",
   "id": "becc76b2",
   "metadata": {},
   "source": [
    "<h3>Accessing the IEX Cloud API</h3>"
   ]
  },
  {
   "cell_type": "markdown",
   "id": "931f6978",
   "metadata": {},
   "source": [
    "The IEX Cloud API allows a batch request of 100 Tickers at a time. We need to split our list into multiple lists of 100 Tickers (or less). Here is a helper function that does this:"
   ]
  },
  {
   "cell_type": "code",
   "execution_count": null,
   "id": "3934b30c",
   "metadata": {},
   "outputs": [],
   "source": [
    "'''\n",
    "Function that splits a list (l) into multiple lists of (n) items\n",
    "args:\n",
    "    l: array\n",
    "    n: number\n",
    "returns 2D array\n",
    "'''\n",
    "def split_list(l, n):\n",
    "    for i in range(0, len(l), n):\n",
    "        yield l[i:i+n]"
   ]
  },
  {
   "cell_type": "code",
   "execution_count": null,
   "id": "61900e55",
   "metadata": {},
   "outputs": [],
   "source": [
    "# Split our symbol list into multiple list of 100 symbols\n",
    "symbols = stocks[\"Ticker\"]\n",
    "symbol_lists = list(split_list(symbols, 100))"
   ]
  },
  {
   "cell_type": "markdown",
   "id": "0dd9973f",
   "metadata": {},
   "source": [
    "In order to execute a batch request with the IEX Cloud API, we need to enter the stocks in the URL separated by a comma.<br>\n",
    "\n",
    "<b>Example</b>: [AAL, AAPL, ABBV] becomes \"AAL,AAPL,AABBV\""
   ]
  },
  {
   "cell_type": "code",
   "execution_count": null,
   "id": "4cf19d4c",
   "metadata": {},
   "outputs": [],
   "source": [
    "symbol_batches = [] # the array that contains the symbols separated by commas\n",
    "for symbol_list in symbol_lists:\n",
    "    symbol_batches.append(\",\".join(symbol_list))"
   ]
  },
  {
   "cell_type": "markdown",
   "id": "0d90f192",
   "metadata": {},
   "source": [
    "Get the key to access the API"
   ]
  },
  {
   "cell_type": "code",
   "execution_count": null,
   "id": "5314a1e6",
   "metadata": {},
   "outputs": [],
   "source": [
    "from secret_keys import IEX_CLOUD_API_TOKEN"
   ]
  },
  {
   "cell_type": "markdown",
   "id": "0d69db3b",
   "metadata": {},
   "source": [
    "Do batch requests"
   ]
  },
  {
   "cell_type": "code",
   "execution_count": null,
   "id": "c9b6b522",
   "metadata": {},
   "outputs": [],
   "source": [
    "for symbol_batch in symbol_batches:\n",
    "    # Build URL request\n",
    "    url = f\"https://sandbox.iexapis.com/stable/stock/market/batch?symbols={symbol_batch}&types=stats,price&token={IEX_CLOUD_API_TOKEN}\"\n",
    "    # Fetch data\n",
    "    data = requests.get(url).json()\n",
    "    # Extract the symbols from the batch\n",
    "    for symbol in symbol_batch.split(\",\"):\n",
    "        if symbol in data:\n",
    "            symbol_data = data[symbol]\n",
    "            symbol_stats = symbol_data[\"stats\"]\n",
    "            # Avoid getting None values\n",
    "            for key in [\"year1ChangePercent\", \"month6ChangePercent\", \"month3ChangePercent\", \"month1ChangePercent\"]:\n",
    "                if symbol_stats[key] == None:\n",
    "                    symbol_stats[key] = 0\n",
    "            # Percentiles are temporarily filled with N/A as they are calculated later in the script\n",
    "            df = df.append(pd.Series([\n",
    "                symbol,\n",
    "                symbol_data[\"price\"],\n",
    "                symbol_stats[\"year1ChangePercent\"],\n",
    "                \"N/A\",\n",
    "                symbol_stats[\"month6ChangePercent\"],\n",
    "                \"N/A\",\n",
    "                symbol_stats[\"month3ChangePercent\"],\n",
    "                \"N/A\",\n",
    "                symbol_stats[\"month1ChangePercent\"],\n",
    "                \"N/A\",\n",
    "                \"N/A\",\n",
    "                \"N/A\"\n",
    "            ], index=columns), ignore_index=True)"
   ]
  },
  {
   "cell_type": "code",
   "execution_count": null,
   "id": "41e13b24",
   "metadata": {},
   "outputs": [],
   "source": [
    "df"
   ]
  },
  {
   "cell_type": "markdown",
   "id": "caf0a4ef",
   "metadata": {},
   "source": [
    "<h3>Calculate the Percentile of the Time Periods</h3>"
   ]
  },
  {
   "cell_type": "code",
   "execution_count": null,
   "id": "5c90faa1",
   "metadata": {},
   "outputs": [],
   "source": [
    "time_periods = [\"One-Year\", \"Six-Month\", \"Three-Month\", \"One-Month\"]\n",
    "\n",
    "for row in df.index:\n",
    "    for time_period in time_periods:\n",
    "        percentile_col = f\"{time_period} Return Percentile\"\n",
    "        change_col = f\"{time_period} Price Return\"\n",
    "        df.loc[row, percentile_col] = score(\n",
    "            df[change_col],\n",
    "            df.loc[row, change_col]\n",
    "        ) / 100\n",
    "\n",
    "df"
   ]
  },
  {
   "cell_type": "markdown",
   "id": "b13acc55",
   "metadata": {},
   "source": [
    "<h3>Calculate the HQM Score for each Stock</h3>\n",
    "\n",
    "We can judge a Stock by its <b>Quality Momentum</b> - if the momentum of the stock is stable over time or if the value increases at once. High Quality Momentum Stocks increase steadily over time while Lower Quality Stocks experience unstable changes.\n",
    "\n",
    "The HQM Score (High Quality Momentum Score) takes the mean of the Return Percentiles over a certain period of time and is calculated as a percentage (100% being a high score and 0% being a low score)"
   ]
  },
  {
   "cell_type": "code",
   "execution_count": null,
   "id": "22f986ff",
   "metadata": {
    "scrolled": true
   },
   "outputs": [],
   "source": [
    "from statistics import mean\n",
    "\n",
    "for row in df.index:\n",
    "    momentum_percentiles = []\n",
    "    for time_period in time_periods:\n",
    "        momentum_percentiles.append(df.loc[row, f\"{time_period} Return Percentile\"])\n",
    "    df.loc[row, \"HQM Score\"] = mean(momentum_percentiles)\n",
    "\n",
    "df"
   ]
  },
  {
   "cell_type": "markdown",
   "id": "7121042a",
   "metadata": {},
   "source": [
    "<h3>Selecting the 50 Best Momentum Stocks</h3>"
   ]
  },
  {
   "cell_type": "code",
   "execution_count": null,
   "id": "cab56c72",
   "metadata": {},
   "outputs": [],
   "source": [
    "# Sort the values of the Data Frame\n",
    "df.sort_values(\"HQM Score\", ascending=False, inplace=True)\n",
    "\n",
    "# Extract the 50 first elements of the sorted Data Frame\n",
    "df = df[:50]\n",
    "\n",
    "# Reset the indices\n",
    "df.reset_index(inplace=True, drop=True)\n",
    "\n",
    "df"
   ]
  },
  {
   "cell_type": "markdown",
   "id": "70fb9b56",
   "metadata": {},
   "source": [
    "<h3>Calculating the number of shares to buy</h3>"
   ]
  },
  {
   "cell_type": "markdown",
   "id": "eb5290f0",
   "metadata": {},
   "source": [
    "Get the user's portfolio size by prompting an input box"
   ]
  },
  {
   "cell_type": "code",
   "execution_count": null,
   "id": "7824c740",
   "metadata": {},
   "outputs": [],
   "source": [
    "def get_portfolio_size():\n",
    "    portfolio_size = input(\"Enter the value of your portfolio: \")\n",
    "    \n",
    "    try:\n",
    "        val = float(portfolio_size)\n",
    "    except ValueError:\n",
    "        print(\"\\nYou need to enter a number.\")\n",
    "        val = get_portfolio_size()\n",
    "    \n",
    "    return val"
   ]
  },
  {
   "cell_type": "code",
   "execution_count": null,
   "id": "9584c2dc",
   "metadata": {},
   "outputs": [],
   "source": [
    "portfolio_size = get_portfolio_size()"
   ]
  },
  {
   "cell_type": "code",
   "execution_count": null,
   "id": "6a9f538e",
   "metadata": {},
   "outputs": [],
   "source": [
    "position_size = portfolio_size / len(df.index)\n",
    "\n",
    "for row in df.index:\n",
    "    df.loc[row, \"Number of Shares to Buy\"] = position_size // df.loc[row, \"Stock Price\"]\n",
    "\n",
    "df"
   ]
  },
  {
   "cell_type": "markdown",
   "id": "edb57880",
   "metadata": {},
   "source": [
    "<h3>Export the Data Frame to an Excel File Traders can use</h3>"
   ]
  },
  {
   "cell_type": "markdown",
   "id": "6aba1a38",
   "metadata": {},
   "source": [
    "Initialize the XlsxWriter Object"
   ]
  },
  {
   "cell_type": "code",
   "execution_count": null,
   "id": "8f38a2ff",
   "metadata": {},
   "outputs": [],
   "source": [
    "writer = pd.ExcelWriter(\"quantitative_momentum_strategy.xlsx\", engine=\"xlsxwriter\")"
   ]
  },
  {
   "cell_type": "markdown",
   "id": "587e3ea6",
   "metadata": {},
   "source": [
    "Pass the Data Frame to the Writer Object"
   ]
  },
  {
   "cell_type": "code",
   "execution_count": null,
   "id": "596b946e",
   "metadata": {},
   "outputs": [],
   "source": [
    "SHEET_NAME = \"Recommended Trades\"\n",
    "df.to_excel(writer, SHEET_NAME, index=False)"
   ]
  },
  {
   "cell_type": "markdown",
   "id": "0838a5d3",
   "metadata": {},
   "source": [
    "Format the excel file with the following rules:\n",
    "<ul>\n",
    "    <li><b>Tickers:</b> String format</li>\n",
    "    <li><b>Stock Prices:</b> \\$XX.XX</li>\n",
    "    <li><b>Percentages:</b> %X.X</li>\n",
    "    <li><b>Number of Shares to Buy:</b> Integer</li>\n",
    "</ul>"
   ]
  },
  {
   "cell_type": "code",
   "execution_count": null,
   "id": "77a750d1",
   "metadata": {},
   "outputs": [],
   "source": [
    "# Setup the styles\n",
    "BACKGROUND_COLOR = \"#0A0A23\"\n",
    "FONT_COLOR = \"#FFFFFF\"\n",
    "BORDER_WIDTH = 1\n",
    "\n",
    "STRING_FORMAT = writer.book.add_format({\n",
    "    \"font_color\": FONT_COLOR,\n",
    "    \"bg_color\": BACKGROUND_COLOR,\n",
    "    \"border\": BORDER_WIDTH\n",
    "})\n",
    "\n",
    "PRICE_FORMAT = writer.book.add_format({\n",
    "    \"num_format\": \"$0.00\",\n",
    "    \"font_color\": FONT_COLOR,\n",
    "    \"bg_color\": BACKGROUND_COLOR,\n",
    "    \"border\": BORDER_WIDTH\n",
    "})\n",
    "\n",
    "VALUE_FORMAT = writer.book.add_format({\n",
    "    \"num_format\": \"$#,##0.00\",\n",
    "    \"font_color\": FONT_COLOR,\n",
    "    \"bg_color\": BACKGROUND_COLOR,\n",
    "    \"border\": BORDER_WIDTH\n",
    "})\n",
    "\n",
    "NUMBER_FORMAT = writer.book.add_format({\n",
    "    \"num_format\": \"0\",\n",
    "    \"font_color\": FONT_COLOR,\n",
    "    \"bg_color\": BACKGROUND_COLOR,\n",
    "    \"border\": BORDER_WIDTH\n",
    "})\n",
    "\n",
    "PERCENT_FORMAT = writer.book.add_format({\n",
    "    \"num_format\": \"0.0%\",\n",
    "    \"font_color\": FONT_COLOR,\n",
    "    \"bg_color\": BACKGROUND_COLOR,\n",
    "    \"border\": BORDER_WIDTH\n",
    "})\n",
    "\n",
    "map_columns_to_format = {\n",
    "    \"A\": [columns[0], STRING_FORMAT],\n",
    "    \"B\": [columns[1], PRICE_FORMAT],\n",
    "    \"C\": [columns[2], PERCENT_FORMAT],\n",
    "    \"D\": [columns[3], PERCENT_FORMAT],\n",
    "    \"E\": [columns[4], PERCENT_FORMAT],\n",
    "    \"F\": [columns[5], PERCENT_FORMAT],\n",
    "    \"G\": [columns[6], PERCENT_FORMAT],\n",
    "    \"H\": [columns[7], PERCENT_FORMAT],\n",
    "    \"I\": [columns[8], PERCENT_FORMAT],\n",
    "    \"J\": [columns[9], PERCENT_FORMAT],\n",
    "    \"K\": [columns[10], PERCENT_FORMAT],\n",
    "    \"L\": [columns[11], NUMBER_FORMAT]\n",
    "}"
   ]
  },
  {
   "cell_type": "code",
   "execution_count": null,
   "id": "553b1069",
   "metadata": {},
   "outputs": [],
   "source": [
    "# Format Cells\n",
    "for col in map_columns_to_format:\n",
    "    title, cell_format = map_columns_to_format[col]\n",
    "    \n",
    "    # Format Header\n",
    "    writer.sheets[SHEET_NAME].write(f\"{col}1\", title, STRING_FORMAT)\n",
    "    \n",
    "    # Format Body\n",
    "    writer.sheets[SHEET_NAME].set_column(f\"{col}:{col}\", 22, cell_format)\n",
    "writer.save()"
   ]
  },
  {
   "cell_type": "markdown",
   "id": "e67783c0",
   "metadata": {},
   "source": [
    "Save the writer to the Excel File"
   ]
  },
  {
   "cell_type": "code",
   "execution_count": null,
   "id": "c0ae888d",
   "metadata": {},
   "outputs": [],
   "source": [
    "writer.save()"
   ]
  }
 ],
 "metadata": {
  "kernelspec": {
   "display_name": "Python 3 (ipykernel)",
   "language": "python",
   "name": "python3"
  },
  "language_info": {
   "codemirror_mode": {
    "name": "ipython",
    "version": 3
   },
   "file_extension": ".py",
   "mimetype": "text/x-python",
   "name": "python",
   "nbconvert_exporter": "python",
   "pygments_lexer": "ipython3",
   "version": "3.8.13"
  }
 },
 "nbformat": 4,
 "nbformat_minor": 5
}
