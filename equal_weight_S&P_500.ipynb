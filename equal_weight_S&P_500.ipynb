{
 "cells": [
  {
   "cell_type": "markdown",
   "id": "290ff112",
   "metadata": {},
   "source": [
    "<h1>Equal Weight S&P 500 Index Fund</h1>"
   ]
  },
  {
   "cell_type": "markdown",
   "id": "9a89c672",
   "metadata": {},
   "source": [
    "The goal of this project is to create a Python script that accepts a portfolio (xlsx format) and returns the shares that we should purchase in order to create an equal weight version of the S&P 500 Index Fund"
   ]
  },
  {
   "cell_type": "markdown",
   "id": "1a4f02af",
   "metadata": {},
   "source": [
    "<h3>Library Imports</h3>"
   ]
  },
  {
   "cell_type": "code",
   "execution_count": 14,
   "id": "8a0b9269",
   "metadata": {},
   "outputs": [],
   "source": [
    "import numpy as np\n",
    "import pandas as pd\n",
    "import requests\n",
    "import xlsxwriter\n",
    "import math"
   ]
  },
  {
   "cell_type": "code",
   "execution_count": 54,
   "id": "3515ec1a",
   "metadata": {},
   "outputs": [],
   "source": [
    "import warnings\n",
    "warnings.filterwarnings('ignore')"
   ]
  },
  {
   "cell_type": "markdown",
   "id": "2dc13f36",
   "metadata": {},
   "source": [
    "<h3>Importing list of stocks</h3>"
   ]
  },
  {
   "cell_type": "code",
   "execution_count": 16,
   "id": "76e187bb",
   "metadata": {},
   "outputs": [
    {
     "data": {
      "text/html": [
       "<div>\n",
       "<style scoped>\n",
       "    .dataframe tbody tr th:only-of-type {\n",
       "        vertical-align: middle;\n",
       "    }\n",
       "\n",
       "    .dataframe tbody tr th {\n",
       "        vertical-align: top;\n",
       "    }\n",
       "\n",
       "    .dataframe thead th {\n",
       "        text-align: right;\n",
       "    }\n",
       "</style>\n",
       "<table border=\"1\" class=\"dataframe\">\n",
       "  <thead>\n",
       "    <tr style=\"text-align: right;\">\n",
       "      <th></th>\n",
       "      <th>Ticker</th>\n",
       "    </tr>\n",
       "  </thead>\n",
       "  <tbody>\n",
       "    <tr>\n",
       "      <th>0</th>\n",
       "      <td>A</td>\n",
       "    </tr>\n",
       "    <tr>\n",
       "      <th>1</th>\n",
       "      <td>AAL</td>\n",
       "    </tr>\n",
       "    <tr>\n",
       "      <th>2</th>\n",
       "      <td>AAP</td>\n",
       "    </tr>\n",
       "    <tr>\n",
       "      <th>3</th>\n",
       "      <td>AAPL</td>\n",
       "    </tr>\n",
       "    <tr>\n",
       "      <th>4</th>\n",
       "      <td>ABBV</td>\n",
       "    </tr>\n",
       "    <tr>\n",
       "      <th>...</th>\n",
       "      <td>...</td>\n",
       "    </tr>\n",
       "    <tr>\n",
       "      <th>500</th>\n",
       "      <td>YUM</td>\n",
       "    </tr>\n",
       "    <tr>\n",
       "      <th>501</th>\n",
       "      <td>ZBH</td>\n",
       "    </tr>\n",
       "    <tr>\n",
       "      <th>502</th>\n",
       "      <td>ZBRA</td>\n",
       "    </tr>\n",
       "    <tr>\n",
       "      <th>503</th>\n",
       "      <td>ZION</td>\n",
       "    </tr>\n",
       "    <tr>\n",
       "      <th>504</th>\n",
       "      <td>ZTS</td>\n",
       "    </tr>\n",
       "  </tbody>\n",
       "</table>\n",
       "<p>505 rows × 1 columns</p>\n",
       "</div>"
      ],
      "text/plain": [
       "    Ticker\n",
       "0        A\n",
       "1      AAL\n",
       "2      AAP\n",
       "3     AAPL\n",
       "4     ABBV\n",
       "..     ...\n",
       "500    YUM\n",
       "501    ZBH\n",
       "502   ZBRA\n",
       "503   ZION\n",
       "504    ZTS\n",
       "\n",
       "[505 rows x 1 columns]"
      ]
     },
     "execution_count": 16,
     "metadata": {},
     "output_type": "execute_result"
    }
   ],
   "source": [
    "stocks = pd.read_csv(\"sp_500_stocks.csv\")\n",
    "stocks"
   ]
  },
  {
   "cell_type": "markdown",
   "id": "31c1729b",
   "metadata": {},
   "source": [
    "<h3>Creating the Pandas DataFrame to Store Stocks Data</h3>"
   ]
  },
  {
   "cell_type": "markdown",
   "id": "618e5c17",
   "metadata": {},
   "source": [
    "The dataframe will contain the following columns:\n",
    "<ul>\n",
    "    <li>Price</li>\n",
    "    <li>Market Capitalization</li>\n",
    "    <li>Number of shares to buy</li>\n",
    "</ul>"
   ]
  },
  {
   "cell_type": "code",
   "execution_count": 62,
   "id": "5fb4a6a5",
   "metadata": {},
   "outputs": [],
   "source": [
    "columns = [\"Ticker\", \"Stock Price\", \"Market Capitalization\", \"Number of Shares to Buy\"]\n",
    "df = pd.DataFrame(columns=columns)"
   ]
  },
  {
   "cell_type": "markdown",
   "id": "becc76b2",
   "metadata": {},
   "source": [
    "<h3>Accessing the IEX Cloud API</h3>"
   ]
  },
  {
   "cell_type": "markdown",
   "id": "b7ef583d",
   "metadata": {},
   "source": [
    "We will use the following information from the API:\n",
    "<ul>\n",
    "    <li>Market capitalization for each stock</li>\n",
    "    <li>Price of each stock</li>\n",
    "</ul>"
   ]
  },
  {
   "cell_type": "markdown",
   "id": "931f6978",
   "metadata": {},
   "source": [
    "The IEX Cloud API allows a batch request of 100 Tickers at a time. We need to split our list into multiple lists of 100 Tickers (or less). Here is a helper function that does this:"
   ]
  },
  {
   "cell_type": "code",
   "execution_count": 24,
   "id": "3934b30c",
   "metadata": {},
   "outputs": [],
   "source": [
    "'''\n",
    "Function that splits a list (l) into multiple lists of (n) items\n",
    "args:\n",
    "    l: array\n",
    "    n: number\n",
    "returns 2D array\n",
    "'''\n",
    "def split_list(l, n):\n",
    "    for i in range(0, len(l), n):\n",
    "        yield l[i:i+n]"
   ]
  },
  {
   "cell_type": "code",
   "execution_count": 29,
   "id": "61900e55",
   "metadata": {},
   "outputs": [],
   "source": [
    "# Split our symbol list into multiple list of 100 symbols\n",
    "symbols = stocks[\"Ticker\"]\n",
    "symbol_lists = list(split_list(symbols, 100))"
   ]
  },
  {
   "cell_type": "markdown",
   "id": "0dd9973f",
   "metadata": {},
   "source": [
    "In order to execute a batch request with the IEX Cloud API, we need to enter the stocks in the URL separated by a comma.<br>\n",
    "\n",
    "<b>Example</b>: [AAL, AAPL, ABBV] becomes \"AAL,AAPL,AABBV\""
   ]
  },
  {
   "cell_type": "code",
   "execution_count": 38,
   "id": "4cf19d4c",
   "metadata": {},
   "outputs": [],
   "source": [
    "symbol_batches = [] # the array that contains the symbols separated by commas\n",
    "for symbol_list in symbol_lists:\n",
    "    symbol_batches.append(\",\".join(symbol_list))"
   ]
  },
  {
   "cell_type": "markdown",
   "id": "0d90f192",
   "metadata": {},
   "source": [
    "Get the key to access the API"
   ]
  },
  {
   "cell_type": "code",
   "execution_count": 39,
   "id": "5314a1e6",
   "metadata": {},
   "outputs": [],
   "source": [
    "from secret_keys import IEX_CLOUD_API_TOKEN"
   ]
  },
  {
   "cell_type": "code",
   "execution_count": 63,
   "id": "d3764e1e",
   "metadata": {},
   "outputs": [],
   "source": [
    "# Loop over the stock symbols\n",
    "for symbol_batch in symbol_batches:\n",
    "    # Retrieve the data for each batch of symbols we're looping through\n",
    "    url = f\"https://sandbox.iexapis.com/stable/stock/market/batch?symbols={symbol_batch}&types=quote&token={IEX_CLOUD_API_TOKEN}\"\n",
    "    data = requests.get(url).json()\n",
    "    # Loop over the each symbol in the batch we're currently in\n",
    "    for symbol in symbol_batch.split(\",\"):\n",
    "        try:\n",
    "            symbol_data = data[symbol][\"quote\"]\n",
    "            # Add the data of the current symbol to our Data Frame\n",
    "            df = df.append(pd.Series([\n",
    "                symbol,\n",
    "                symbol_data[\"latestPrice\"],\n",
    "                symbol_data[\"marketCap\"],\n",
    "                \"N/A\"\n",
    "            ], index=columns), ignore_index=True)\n",
    "        except:\n",
    "            pass"
   ]
  },
  {
   "cell_type": "code",
   "execution_count": 65,
   "id": "063bb11c",
   "metadata": {
    "scrolled": true
   },
   "outputs": [
    {
     "data": {
      "text/html": [
       "<div>\n",
       "<style scoped>\n",
       "    .dataframe tbody tr th:only-of-type {\n",
       "        vertical-align: middle;\n",
       "    }\n",
       "\n",
       "    .dataframe tbody tr th {\n",
       "        vertical-align: top;\n",
       "    }\n",
       "\n",
       "    .dataframe thead th {\n",
       "        text-align: right;\n",
       "    }\n",
       "</style>\n",
       "<table border=\"1\" class=\"dataframe\">\n",
       "  <thead>\n",
       "    <tr style=\"text-align: right;\">\n",
       "      <th></th>\n",
       "      <th>Ticker</th>\n",
       "      <th>Stock Price</th>\n",
       "      <th>Market Capitalization</th>\n",
       "      <th>Number of Shares to Buy</th>\n",
       "    </tr>\n",
       "  </thead>\n",
       "  <tbody>\n",
       "    <tr>\n",
       "      <th>0</th>\n",
       "      <td>A</td>\n",
       "      <td>125.09</td>\n",
       "      <td>37880563239</td>\n",
       "      <td>N/A</td>\n",
       "    </tr>\n",
       "    <tr>\n",
       "      <th>1</th>\n",
       "      <td>AAL</td>\n",
       "      <td>14.40</td>\n",
       "      <td>9199077660</td>\n",
       "      <td>N/A</td>\n",
       "    </tr>\n",
       "    <tr>\n",
       "      <th>2</th>\n",
       "      <td>AAP</td>\n",
       "      <td>189.40</td>\n",
       "      <td>11269626694</td>\n",
       "      <td>N/A</td>\n",
       "    </tr>\n",
       "    <tr>\n",
       "      <th>3</th>\n",
       "      <td>AAPL</td>\n",
       "      <td>147.33</td>\n",
       "      <td>2319272037574</td>\n",
       "      <td>N/A</td>\n",
       "    </tr>\n",
       "    <tr>\n",
       "      <th>4</th>\n",
       "      <td>ABBV</td>\n",
       "      <td>153.39</td>\n",
       "      <td>271696790975</td>\n",
       "      <td>N/A</td>\n",
       "    </tr>\n",
       "    <tr>\n",
       "      <th>...</th>\n",
       "      <td>...</td>\n",
       "      <td>...</td>\n",
       "      <td>...</td>\n",
       "      <td>...</td>\n",
       "    </tr>\n",
       "    <tr>\n",
       "      <th>496</th>\n",
       "      <td>YUM</td>\n",
       "      <td>114.53</td>\n",
       "      <td>32673472845</td>\n",
       "      <td>N/A</td>\n",
       "    </tr>\n",
       "    <tr>\n",
       "      <th>497</th>\n",
       "      <td>ZBH</td>\n",
       "      <td>111.88</td>\n",
       "      <td>23678201517</td>\n",
       "      <td>N/A</td>\n",
       "    </tr>\n",
       "    <tr>\n",
       "      <th>498</th>\n",
       "      <td>ZBRA</td>\n",
       "      <td>319.68</td>\n",
       "      <td>16552372106</td>\n",
       "      <td>N/A</td>\n",
       "    </tr>\n",
       "    <tr>\n",
       "      <th>499</th>\n",
       "      <td>ZION</td>\n",
       "      <td>53.73</td>\n",
       "      <td>8441958360</td>\n",
       "      <td>N/A</td>\n",
       "    </tr>\n",
       "    <tr>\n",
       "      <th>500</th>\n",
       "      <td>ZTS</td>\n",
       "      <td>178.30</td>\n",
       "      <td>86112560492</td>\n",
       "      <td>N/A</td>\n",
       "    </tr>\n",
       "  </tbody>\n",
       "</table>\n",
       "<p>501 rows × 4 columns</p>\n",
       "</div>"
      ],
      "text/plain": [
       "    Ticker  Stock Price Market Capitalization Number of Shares to Buy\n",
       "0        A       125.09           37880563239                     N/A\n",
       "1      AAL        14.40            9199077660                     N/A\n",
       "2      AAP       189.40           11269626694                     N/A\n",
       "3     AAPL       147.33         2319272037574                     N/A\n",
       "4     ABBV       153.39          271696790975                     N/A\n",
       "..     ...          ...                   ...                     ...\n",
       "496    YUM       114.53           32673472845                     N/A\n",
       "497    ZBH       111.88           23678201517                     N/A\n",
       "498   ZBRA       319.68           16552372106                     N/A\n",
       "499   ZION        53.73            8441958360                     N/A\n",
       "500    ZTS       178.30           86112560492                     N/A\n",
       "\n",
       "[501 rows x 4 columns]"
      ]
     },
     "execution_count": 65,
     "metadata": {},
     "output_type": "execute_result"
    }
   ],
   "source": [
    "df"
   ]
  },
  {
   "cell_type": "markdown",
   "id": "70fb9b56",
   "metadata": {},
   "source": [
    "<h3>Calculate the number of shares to buy</h3>"
   ]
  },
  {
   "cell_type": "markdown",
   "id": "eb5290f0",
   "metadata": {},
   "source": [
    "Get the user's portfolio size by prompting an input box"
   ]
  },
  {
   "cell_type": "code",
   "execution_count": 72,
   "id": "7824c740",
   "metadata": {},
   "outputs": [],
   "source": [
    "def get_portfolio_size():\n",
    "    portfolio_size = input(\"Enter the value of your portfolio: \")\n",
    "    \n",
    "    try:\n",
    "        val = float(portfolio_size)\n",
    "    except ValueError:\n",
    "        print(\"\\nYou need to enter a number.\")\n",
    "        val = get_portfolio_size()\n",
    "    \n",
    "    return val"
   ]
  },
  {
   "cell_type": "code",
   "execution_count": 75,
   "id": "58e3135b",
   "metadata": {},
   "outputs": [
    {
     "name": "stdout",
     "output_type": "stream",
     "text": [
      "Enter the value of your portfolio: 1000000\n"
     ]
    }
   ],
   "source": [
    "portfolio_size = get_portfolio_size()"
   ]
  },
  {
   "cell_type": "markdown",
   "id": "cc4f393b",
   "metadata": {},
   "source": [
    "Get the <b>position size</b>: the size we allocate to each stock"
   ]
  },
  {
   "cell_type": "code",
   "execution_count": 77,
   "id": "0c10cc95",
   "metadata": {},
   "outputs": [
    {
     "data": {
      "text/plain": [
       "1996.007984031936"
      ]
     },
     "execution_count": 77,
     "metadata": {},
     "output_type": "execute_result"
    }
   ],
   "source": [
    "position_size = portfolio_size / len(df.index)\n",
    "position_size"
   ]
  },
  {
   "cell_type": "markdown",
   "id": "86368e6e",
   "metadata": {},
   "source": [
    "Populate the dataframe with the number of stocks we can buy for each Ticker"
   ]
  },
  {
   "cell_type": "code",
   "execution_count": 79,
   "id": "67c66740",
   "metadata": {},
   "outputs": [
    {
     "data": {
      "text/html": [
       "<div>\n",
       "<style scoped>\n",
       "    .dataframe tbody tr th:only-of-type {\n",
       "        vertical-align: middle;\n",
       "    }\n",
       "\n",
       "    .dataframe tbody tr th {\n",
       "        vertical-align: top;\n",
       "    }\n",
       "\n",
       "    .dataframe thead th {\n",
       "        text-align: right;\n",
       "    }\n",
       "</style>\n",
       "<table border=\"1\" class=\"dataframe\">\n",
       "  <thead>\n",
       "    <tr style=\"text-align: right;\">\n",
       "      <th></th>\n",
       "      <th>Ticker</th>\n",
       "      <th>Stock Price</th>\n",
       "      <th>Market Capitalization</th>\n",
       "      <th>Number of Shares to Buy</th>\n",
       "    </tr>\n",
       "  </thead>\n",
       "  <tbody>\n",
       "    <tr>\n",
       "      <th>0</th>\n",
       "      <td>A</td>\n",
       "      <td>125.09</td>\n",
       "      <td>37880563239</td>\n",
       "      <td>15</td>\n",
       "    </tr>\n",
       "    <tr>\n",
       "      <th>1</th>\n",
       "      <td>AAL</td>\n",
       "      <td>14.40</td>\n",
       "      <td>9199077660</td>\n",
       "      <td>138</td>\n",
       "    </tr>\n",
       "    <tr>\n",
       "      <th>2</th>\n",
       "      <td>AAP</td>\n",
       "      <td>189.40</td>\n",
       "      <td>11269626694</td>\n",
       "      <td>10</td>\n",
       "    </tr>\n",
       "    <tr>\n",
       "      <th>3</th>\n",
       "      <td>AAPL</td>\n",
       "      <td>147.33</td>\n",
       "      <td>2319272037574</td>\n",
       "      <td>13</td>\n",
       "    </tr>\n",
       "    <tr>\n",
       "      <th>4</th>\n",
       "      <td>ABBV</td>\n",
       "      <td>153.39</td>\n",
       "      <td>271696790975</td>\n",
       "      <td>13</td>\n",
       "    </tr>\n",
       "    <tr>\n",
       "      <th>...</th>\n",
       "      <td>...</td>\n",
       "      <td>...</td>\n",
       "      <td>...</td>\n",
       "      <td>...</td>\n",
       "    </tr>\n",
       "    <tr>\n",
       "      <th>496</th>\n",
       "      <td>YUM</td>\n",
       "      <td>114.53</td>\n",
       "      <td>32673472845</td>\n",
       "      <td>17</td>\n",
       "    </tr>\n",
       "    <tr>\n",
       "      <th>497</th>\n",
       "      <td>ZBH</td>\n",
       "      <td>111.88</td>\n",
       "      <td>23678201517</td>\n",
       "      <td>17</td>\n",
       "    </tr>\n",
       "    <tr>\n",
       "      <th>498</th>\n",
       "      <td>ZBRA</td>\n",
       "      <td>319.68</td>\n",
       "      <td>16552372106</td>\n",
       "      <td>6</td>\n",
       "    </tr>\n",
       "    <tr>\n",
       "      <th>499</th>\n",
       "      <td>ZION</td>\n",
       "      <td>53.73</td>\n",
       "      <td>8441958360</td>\n",
       "      <td>37</td>\n",
       "    </tr>\n",
       "    <tr>\n",
       "      <th>500</th>\n",
       "      <td>ZTS</td>\n",
       "      <td>178.30</td>\n",
       "      <td>86112560492</td>\n",
       "      <td>11</td>\n",
       "    </tr>\n",
       "  </tbody>\n",
       "</table>\n",
       "<p>501 rows × 4 columns</p>\n",
       "</div>"
      ],
      "text/plain": [
       "    Ticker  Stock Price Market Capitalization Number of Shares to Buy\n",
       "0        A       125.09           37880563239                      15\n",
       "1      AAL        14.40            9199077660                     138\n",
       "2      AAP       189.40           11269626694                      10\n",
       "3     AAPL       147.33         2319272037574                      13\n",
       "4     ABBV       153.39          271696790975                      13\n",
       "..     ...          ...                   ...                     ...\n",
       "496    YUM       114.53           32673472845                      17\n",
       "497    ZBH       111.88           23678201517                      17\n",
       "498   ZBRA       319.68           16552372106                       6\n",
       "499   ZION        53.73            8441958360                      37\n",
       "500    ZTS       178.30           86112560492                      11\n",
       "\n",
       "[501 rows x 4 columns]"
      ]
     },
     "execution_count": 79,
     "metadata": {},
     "output_type": "execute_result"
    }
   ],
   "source": [
    "for i in range(0, len(df.index)):\n",
    "    # Note: we can only buy full shares, so we use math.floor to get an integer without going over budget\n",
    "    df.loc[i, columns[3]] = math.floor(position_size / df.loc[i, \"Stock Price\"])\n",
    "df"
   ]
  },
  {
   "cell_type": "markdown",
   "id": "edb57880",
   "metadata": {},
   "source": [
    "<h3>Export the Data Frame to an Excel File Traders can use</h3>"
   ]
  },
  {
   "cell_type": "markdown",
   "id": "6aba1a38",
   "metadata": {},
   "source": [
    "Initialize the XlsxWriter Object"
   ]
  },
  {
   "cell_type": "code",
   "execution_count": 98,
   "id": "8f38a2ff",
   "metadata": {},
   "outputs": [],
   "source": [
    "writer = pd.ExcelWriter(\"equal_weight_s&p_500_recommendations.xlsx\", engine=\"xlsxwriter\")"
   ]
  },
  {
   "cell_type": "markdown",
   "id": "587e3ea6",
   "metadata": {},
   "source": [
    "Pass the Data Frame to the Writer Object"
   ]
  },
  {
   "cell_type": "code",
   "execution_count": 99,
   "id": "596b946e",
   "metadata": {},
   "outputs": [],
   "source": [
    "SHEET_NAME = \"Recommended Trades\"\n",
    "df.to_excel(writer, SHEET_NAME, index=False)"
   ]
  },
  {
   "cell_type": "markdown",
   "id": "0838a5d3",
   "metadata": {},
   "source": [
    "Format the excel file with the following rules:\n",
    "<ul>\n",
    "    <li><b>Tickers:</b> String format</li>\n",
    "    <li><b>Stock Prices:</b> \\$XX.XXX</li>\n",
    "    <li><b>Market Capitalization:</b> \\$XX,XXX</li>\n",
    "    <li><b>Number of Shares to Buy:</b> Integer</li>\n",
    "</ul>"
   ]
  },
  {
   "cell_type": "code",
   "execution_count": 100,
   "id": "77a750d1",
   "metadata": {},
   "outputs": [],
   "source": [
    "# Setup the styles\n",
    "BACKGROUND_COLOR = \"#0A0A23\"\n",
    "FONT_COLOR = \"#FFFFFF\"\n",
    "BORDER_WIDTH = 1\n",
    "\n",
    "STRING_FORMAT = writer.book.add_format({\n",
    "    \"font_color\": FONT_COLOR,\n",
    "    \"bg_color\": BACKGROUND_COLOR,\n",
    "    \"border\": BORDER_WIDTH\n",
    "})\n",
    "\n",
    "PRICE_FORMAT = writer.book.add_format({\n",
    "    \"num_format\": \"$0.00\",\n",
    "    \"font_color\": FONT_COLOR,\n",
    "    \"bg_color\": BACKGROUND_COLOR,\n",
    "    \"border\": BORDER_WIDTH\n",
    "})\n",
    "\n",
    "VALUE_FORMAT = writer.book.add_format({\n",
    "    \"num_format\": \"$#,##0.00\",\n",
    "    \"font_color\": FONT_COLOR,\n",
    "    \"bg_color\": BACKGROUND_COLOR,\n",
    "    \"border\": BORDER_WIDTH\n",
    "})\n",
    "\n",
    "NUMBER_FORMAT = writer.book.add_format({\n",
    "    \"num_format\": \"0\",\n",
    "    \"font_color\": FONT_COLOR,\n",
    "    \"bg_color\": BACKGROUND_COLOR,\n",
    "    \"border\": BORDER_WIDTH\n",
    "})\n",
    "\n",
    "map_columns_to_format = {\n",
    "    \"A\": [columns[0], STRING_FORMAT],\n",
    "    \"B\": [columns[1], PRICE_FORMAT],\n",
    "    \"C\": [columns[2], VALUE_FORMAT],\n",
    "    \"D\": [columns[3], NUMBER_FORMAT]\n",
    "}"
   ]
  },
  {
   "cell_type": "code",
   "execution_count": 101,
   "id": "553b1069",
   "metadata": {},
   "outputs": [],
   "source": [
    "# Format Cells\n",
    "for col in map_columns_to_format:\n",
    "    title, cell_format = map_columns_to_format[col]\n",
    "    \n",
    "    # Format Header\n",
    "    writer.sheets[SHEET_NAME].write(f\"{col}1\", title, STRING_FORMAT)\n",
    "    \n",
    "    # Format Body\n",
    "    writer.sheets[SHEET_NAME].set_column(f\"{col}:{col}\", 18, cell_format)\n",
    "writer.save()"
   ]
  },
  {
   "cell_type": "markdown",
   "id": "e67783c0",
   "metadata": {},
   "source": [
    "Save the writer to the Excel File"
   ]
  },
  {
   "cell_type": "code",
   "execution_count": 102,
   "id": "c0ae888d",
   "metadata": {},
   "outputs": [],
   "source": [
    "writer.save()"
   ]
  },
  {
   "cell_type": "code",
   "execution_count": null,
   "id": "1208d7fc",
   "metadata": {},
   "outputs": [],
   "source": []
  }
 ],
 "metadata": {
  "kernelspec": {
   "display_name": "Python 3 (ipykernel)",
   "language": "python",
   "name": "python3"
  },
  "language_info": {
   "codemirror_mode": {
    "name": "ipython",
    "version": 3
   },
   "file_extension": ".py",
   "mimetype": "text/x-python",
   "name": "python",
   "nbconvert_exporter": "python",
   "pygments_lexer": "ipython3",
   "version": "3.8.13"
  }
 },
 "nbformat": 4,
 "nbformat_minor": 5
}
